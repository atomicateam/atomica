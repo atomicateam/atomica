{
 "cells": [
  {
   "cell_type": "markdown",
   "metadata": {},
   "source": [
    "# Data and Databooks\n",
    "\n",
    "This page provides an overview of Atomica's internal representation of databooks. Project data for an application is specified in a 'databook'. This is an Excel file that contains\n",
    "\n",
    "- A listing of which populations a simulation will have\n",
    "- A specification of which transfers are present\n",
    "- Population and time specific values for characteristics, parameters, transfers, and interactions\n",
    "\n",
    "`ProjectData` is a Python object containing the data, and it has methods to convert to and from the databook spreadsheet."
   ]
  },
  {
   "cell_type": "code",
   "execution_count": null,
   "metadata": {},
   "outputs": [],
   "source": [
    "import pandas as pd\n",
    "import atomica as au\n",
    "import matplotlib.pyplot as plt\n",
    "import numpy as np"
   ]
  },
  {
   "cell_type": "code",
   "execution_count": null,
   "metadata": {},
   "outputs": [],
   "source": [
    "F = au.ProjectFramework(au.LIBRARY_PATH + \"tb_framework.xlsx\")\n",
    "data = au.ProjectData.from_spreadsheet(au.LIBRARY_PATH + \"tb_databook.xlsx\",F)"
   ]
  },
  {
   "cell_type": "markdown",
   "metadata": {},
   "source": [
    "The `ProjectData` object contains a number of attributes\n",
    "- `pops` is an odict storing populations and their full names. In the future, it may also store other attributes such as species\n",
    "- `tvec` stores the default time array associated with the data (users can override this on a per-table basis)\n",
    "- `transfers` and `interactions` store pairwise time series linking populations\n",
    "- `tdve` stores a dict of `TimeDependentValueEntry` tables for characteristics and parameters\n",
    "- `tdve_pages` stores a dict assigning TDVE tables to worksheets\n",
    "\n",
    "There are three basic elements to the databook\n",
    "\n",
    "1. The population table\n",
    "2. `TimeDependentConnection` tables which are used for transfers and interactions. These have a 'to' and a 'from' population\n",
    "3. `TimeDependentValueEntry` tables which are used for characteristics and parameters"
   ]
  },
  {
   "cell_type": "markdown",
   "metadata": {},
   "source": [
    "## `TimeSeries` objects\n",
    "\n",
    "Time-varying data is backed by the `TimeSeries` object defined in `structure.py`. This object stores sparse time-varying data, together with an assumption. This allows it to keep track of both assumption and time-varying values entered in a databook. It has a few key properties"
   ]
  },
  {
   "cell_type": "code",
   "execution_count": null,
   "metadata": {},
   "outputs": [],
   "source": [
    "ts = au.TimeSeries(t=[2014,2015],vals=[1,2])"
   ]
  },
  {
   "cell_type": "markdown",
   "metadata": {},
   "source": [
    "A TimeSeries has `t` and `vals` attributes that store the time varying data"
   ]
  },
  {
   "cell_type": "code",
   "execution_count": null,
   "metadata": {},
   "outputs": [],
   "source": [
    "ts.t"
   ]
  },
  {
   "cell_type": "code",
   "execution_count": null,
   "metadata": {},
   "outputs": [],
   "source": [
    "ts.vals"
   ]
  },
  {
   "cell_type": "markdown",
   "metadata": {},
   "source": [
    "The values can be modified using the `insert` and `remove` methods. These preserve the order of the times. Notice that the `remove` method removes data based on the time value rather than the index."
   ]
  },
  {
   "cell_type": "code",
   "execution_count": null,
   "metadata": {},
   "outputs": [],
   "source": [
    "ts.insert(2016,3)\n",
    "ts.remove(2015)\n",
    "ts.vals"
   ]
  },
  {
   "cell_type": "markdown",
   "metadata": {},
   "source": [
    "A `TimeSeries` object also has an interpolate method to query its value at arbitrary times. It uses the same interpolation as for parameters, with constant extrapolation"
   ]
  },
  {
   "cell_type": "code",
   "execution_count": null,
   "metadata": {},
   "outputs": [],
   "source": [
    "t = np.arange(2013,2018,0.2)\n",
    "plt.plot(t,ts.interpolate(t))"
   ]
  },
  {
   "cell_type": "markdown",
   "metadata": {},
   "source": [
    "One of the special features of the `TimeSeries` object that caters for databook entry is the fact that it can independently store the constant assumption value. This is set by inserting a value with no time associated with it"
   ]
  },
  {
   "cell_type": "code",
   "execution_count": null,
   "metadata": {},
   "outputs": [],
   "source": [
    "ts2 = au.TimeSeries()\n",
    "ts2.insert(None,2)\n",
    "ts2.assumption"
   ]
  },
  {
   "cell_type": "markdown",
   "metadata": {},
   "source": [
    "Since the data for a `TimeSeries` could be in `assumption` or in `vals`, the method `get_arrays` allows you to get time and value arrays for the content of the `TimeSeries`"
   ]
  },
  {
   "cell_type": "code",
   "execution_count": null,
   "metadata": {},
   "outputs": [],
   "source": [
    "t,v = ts.get_arrays()\n",
    "print(t)\n",
    "print(v)\n",
    "\n",
    "t,v = ts2.get_arrays()\n",
    "print(t)\n",
    "print(v)"
   ]
  },
  {
   "cell_type": "markdown",
   "metadata": {},
   "source": [
    "However, the most common usage for the `TimeSeries` is to turn sparse data into full interpolated arrays. The `interpolate` method automatically manages the assumption and the time dependent values, so that you don't have to do this yourself:"
   ]
  },
  {
   "cell_type": "code",
   "execution_count": null,
   "metadata": {},
   "outputs": [],
   "source": [
    "t = np.arange(2013,2018,0.2)\n",
    "plt.plot(t,ts.interpolate(t),label='Time varying')\n",
    "plt.plot(t,ts2.interpolate(t),label='Assumption')\n",
    "plt.legend()"
   ]
  },
  {
   "cell_type": "markdown",
   "metadata": {},
   "source": [
    "The `TimeSeries` object also has a `units` property that lets it store the units of the quantity entered in the databook."
   ]
  },
  {
   "cell_type": "markdown",
   "metadata": {},
   "source": [
    "<div class=\"alert alert-info\">\n",
    "In general, whenever the databook has a time-dependent values row with an assumption and some year-specific data, the corresponding object used to store the data on that row is a `TimeSeries`"
   ]
  },
  {
   "cell_type": "markdown",
   "metadata": {},
   "source": [
    "### Population table\n",
    "\n",
    "The population table is very basic:\n",
    "\n",
    "![databook-population-example](assets/databook_population_example.png)\n",
    "\n",
    "in the future, there will probably be more columns - for example, to separate human and mosquito populations (these would need to be validated against tags specified in the Framework)"
   ]
  },
  {
   "cell_type": "markdown",
   "metadata": {},
   "source": [
    "### TimeDependentConnections\n",
    "\n",
    "![databook-tdc](assets/databook_tdc.png)\n",
    "\n",
    "A `TimeDependentConnections` table consists of three elements\n",
    "\n",
    "1. A code name/full name table at the top\n",
    "2. A matrix of Y/N values that controls which time series appear on the page\n",
    "3. A set of time series inputs where the user enters time-varying data\n",
    "\n",
    "This table is managed by the `TimeDependentConnections` object in `excel.py` which has\n",
    "\n",
    "- A code name\n",
    "- A full name\n",
    "- The type (whether it's an interaction or a transfer - the difference being, a transfer cannot have any entries on the diagonal i.e. within the same population)\n",
    "- A list of population names\n",
    "- A list of times\n",
    "- A dict of `TimeSeries` objects keyed by the `(to,from)` populaton names\n",
    "- A method `from_tables()` to construct a `TimeDependentConnections` instance based on the rows in the spreadsheet\n",
    "- A method `write()` that takes in a sheet and a start row, and writes the content for the object to the spreadsheet"
   ]
  },
  {
   "cell_type": "markdown",
   "metadata": {},
   "source": [
    "### TimeDependentValuesEntry\n",
    "\n",
    "![databook-tdve](assets/databook_tdve.png)\n",
    "\n",
    "A `TimeDependentValuesEntry` consists of a single element with\n",
    "\n",
    "- The full name of the quantity at the top left\n",
    "- The left column with population names\n",
    "- Value entry cells for contant and year-specific values\n",
    "\n",
    "    A code name/full name table at the top\n",
    "    A matrix of Y/N values that controls which time series appear on the page\n",
    "    A set of time series inputs where the user enters time-varying data\n",
    "\n",
    "This table is managed by the `TimeDependentValuesEntry` object in `excel.py` which has\n",
    "\n",
    "- A name\n",
    "- The time vector\n",
    "- A dict of `TimeSeries` objects keyed by the population name\n",
    "- A method `from_rows()` to construct a `TimeDependentValuesEntry` instance based on the rows in the spreadsheet\n",
    "- A method `write()` that takes in a sheet and a start row, and writes the content for the object to the spreadsheet"
   ]
  },
  {
   "cell_type": "markdown",
   "metadata": {},
   "source": [
    "## `ProjectData` operations\n",
    "\n",
    "A number of possible operations can be performed on `ProjectData`\n",
    "\n",
    "- Get a new instance using `ProjectData.new()` where you pass in a Framework together with a list (or number) or populations and transfers\n",
    "- Use `to_spreadsheet()` to get a sciris `Spreadsheet` representation of the data, and `save()` to write the `ProjectData` to disk\n",
    "- Use `get_ts()` to get the time-data associated with a quantity out of `ProjectData` e.g. when making parameters\n",
    "- You can add or remove populations and transfers while keeping data intact\n",
    "- You can change the time values using `change_tvec()` while keeping the data intact\n",
    "\n",
    "Note that you can also change the time values in the spreadsheet in place just by adding or removing columns. In principle, you can also specify values only for a subset of populations, but at the moment this is probably not propagated through the model yet."
   ]
  }
 ],
 "metadata": {
  "kernelspec": {
   "display_name": "Python [conda env:optima3]",
   "language": "python",
   "name": "conda-env-optima3-py"
  },
  "language_info": {
   "codemirror_mode": {
    "name": "ipython",
    "version": 3
   },
   "file_extension": ".py",
   "mimetype": "text/x-python",
   "name": "python",
   "nbconvert_exporter": "python",
   "pygments_lexer": "ipython3",
   "version": "3.6.6"
  },
  "toc": {
   "base_numbering": 1,
   "nav_menu": {},
   "number_sections": true,
   "sideBar": true,
   "skip_h1_title": false,
   "title_cell": "Table of Contents",
   "title_sidebar": "Contents",
   "toc_cell": false,
   "toc_position": {},
   "toc_section_display": true,
   "toc_window_display": false
  }
 },
 "nbformat": 4,
 "nbformat_minor": 2
}
