{
 "cells": [
  {
   "cell_type": "markdown",
   "metadata": {},
   "source": [
    "# Data and Databooks\n",
    "\n",
    "This page provides an overview of Atomica's internal representation of databooks. Project data for an application is specified in a 'databook'. This is an Excel file that contains\n",
    "\n",
    "- A listing of which populations a simulation will have\n",
    "- A specification of which transfers are present\n",
    "- Population and time specific values for characteristics, parameters, transfers, and interactions\n",
    "\n",
    "`ProjectData` is a Python object containing the data, and it has methods to convert to and from the databook spreadsheet."
   ]
  },
  {
   "cell_type": "code",
   "execution_count": null,
   "metadata": {},
   "outputs": [],
   "source": [
    "import pandas as pd\n",
    "import atomica as at\n",
    "import matplotlib.pyplot as plt\n",
    "import numpy as np\n",
    "import sciris as sc\n",
    "\n",
    "with at.Quiet(show_warnings=False): # Temporarily suppress any warnings from the output\n",
    "    F = at.ProjectFramework(at.LIBRARY_PATH / \"tb_framework.xlsx\")\n",
    "    data = at.ProjectData.from_spreadsheet(at.LIBRARY_PATH / \"tb_databook.xlsx\",F)"
   ]
  },
  {
   "cell_type": "markdown",
   "metadata": {},
   "source": [
    "We have now loaded in a framework, and a corresponding databook as a `ProjectData` object. The `ProjectData` object contains a number of attributes\n",
    "\n",
    "- `pops` is an odict storing populations, their full names, and the population type (if multiple population types are present)\n",
    "- `tvec` stores the default time array associated with the data (users can override this on a per-table basis)\n",
    "- `transfers` and `interactions` store pairwise time series linking populations\n",
    "- `tdve` stores a dict of `TimeDependentValueEntry` tables for characteristics and parameters\n",
    "- `tdve_pages` stores a dict assigning TDVE tables to worksheets\n",
    "\n",
    "There are three basic elements to the databook\n",
    "\n",
    "1. The population table\n",
    "2. `TimeDependentConnection` tables which are used for transfers and interactions. These have a 'to' and a 'from' population\n",
    "3. `TimeDependentValueEntry` tables which are used for characteristics and parameters"
   ]
  },
  {
   "cell_type": "markdown",
   "metadata": {},
   "source": [
    "## `TimeSeries` objects\n",
    "\n",
    "Time-varying data is backed by the `TimeSeries` object defined in `structure.py`. This object stores sparse time-varying data, together with an assumption. This allows it to keep track of both assumption and time-varying values entered in a databook. It has a few key properties"
   ]
  },
  {
   "cell_type": "code",
   "execution_count": null,
   "metadata": {},
   "outputs": [],
   "source": [
    "ts = at.TimeSeries(t=[2014,2015],vals=[1,2])"
   ]
  },
  {
   "cell_type": "markdown",
   "metadata": {},
   "source": [
    "A TimeSeries has `t` and `vals` attributes that store the time varying data"
   ]
  },
  {
   "cell_type": "code",
   "execution_count": null,
   "metadata": {},
   "outputs": [],
   "source": [
    "ts.t"
   ]
  },
  {
   "cell_type": "code",
   "execution_count": null,
   "metadata": {},
   "outputs": [],
   "source": [
    "ts.vals"
   ]
  },
  {
   "cell_type": "markdown",
   "metadata": {},
   "source": [
    "The values can be modified using the `insert` and `remove` methods. These preserve the order of the times. Notice that the `remove` method removes data based on the time value rather than the index."
   ]
  },
  {
   "cell_type": "code",
   "execution_count": null,
   "metadata": {},
   "outputs": [],
   "source": [
    "ts.insert(2016,3)\n",
    "ts.remove(2015)\n",
    "ts.vals"
   ]
  },
  {
   "cell_type": "markdown",
   "metadata": {},
   "source": [
    "A `TimeSeries` object also has an interpolate method to query its value at arbitrary times. It uses the same interpolation as for parameters, with constant extrapolation"
   ]
  },
  {
   "cell_type": "code",
   "execution_count": null,
   "metadata": {},
   "outputs": [],
   "source": [
    "t = np.arange(2013,2018,0.2)\n",
    "plt.plot(t,ts.interpolate(t))"
   ]
  },
  {
   "cell_type": "markdown",
   "metadata": {},
   "source": [
    "One of the special features of the `TimeSeries` object that caters for databook entry is the fact that it can independently store the constant assumption value. This is set by inserting a value with no time associated with it"
   ]
  },
  {
   "cell_type": "code",
   "execution_count": null,
   "metadata": {},
   "outputs": [],
   "source": [
    "ts2 = at.TimeSeries()\n",
    "ts2.insert(None,2)\n",
    "ts2.assumption"
   ]
  },
  {
   "cell_type": "markdown",
   "metadata": {},
   "source": [
    "Since the data for a `TimeSeries` could be in `assumption` or in `vals`, the method `get_arrays` allows you to get time and value arrays for the content of the `TimeSeries`"
   ]
  },
  {
   "cell_type": "code",
   "execution_count": null,
   "metadata": {},
   "outputs": [],
   "source": [
    "t,v = ts.get_arrays()\n",
    "print(t)\n",
    "print(v)\n",
    "\n",
    "t,v = ts2.get_arrays()\n",
    "print(t)\n",
    "print(v)"
   ]
  },
  {
   "cell_type": "markdown",
   "metadata": {},
   "source": [
    "However, the most common usage for the `TimeSeries` is to turn sparse data into full interpolated arrays. The `interpolate` method automatically manages the assumption and the time dependent values, so that you don't have to do this yourself:"
   ]
  },
  {
   "cell_type": "code",
   "execution_count": null,
   "metadata": {},
   "outputs": [],
   "source": [
    "t = np.arange(2013,2018,0.2)\n",
    "plt.plot(t,ts.interpolate(t),label='Time varying')\n",
    "plt.plot(t,ts2.interpolate(t),label='Assumption')\n",
    "plt.legend()"
   ]
  },
  {
   "cell_type": "markdown",
   "metadata": {},
   "source": [
    "The `TimeSeries` object also has a `units` property that lets it store the units of the quantity entered in the databook."
   ]
  },
  {
   "cell_type": "markdown",
   "metadata": {},
   "source": [
    "<div class=\"alert alert-info\">\n",
    "In general, whenever the databook has a time-dependent values row with an assumption and some year-specific data, the corresponding object used to store the data on that row is a `TimeSeries`"
   ]
  },
  {
   "cell_type": "markdown",
   "metadata": {},
   "source": [
    "### Population table\n",
    "\n",
    "The population table is very basic:\n",
    "\n",
    "![databook-population-example](databook_population_example.png)\n",
    "\n",
    "If population types are present (e.g., if modelling both humans and a vector like mosquitos) there will be additional columns in this table - see the documentation pages for 'Population types' for more information."
   ]
  },
  {
   "cell_type": "markdown",
   "metadata": {},
   "source": [
    "### TimeDependentConnections\n",
    "\n",
    "![databook-tdc](databook_tdc.png)\n",
    "\n",
    "A `TimeDependentConnections` table consists of three elements\n",
    "\n",
    "1. A code name/full name table at the top\n",
    "2. A matrix of Y/N values that controls which time series appear on the page\n",
    "3. A set of time series inputs where the user enters time-varying data\n",
    "\n",
    "This table is managed by the `TimeDependentConnections` object in `excel.py` which has\n",
    "\n",
    "- A code name\n",
    "- A full name\n",
    "- The type (whether it's an interaction or a transfer - the difference being, a transfer cannot have any entries on the diagonal i.e. within the same population)\n",
    "- A list of population names\n",
    "- A list of times\n",
    "- A dict of `TimeSeries` objects keyed by the `(to,from)` populaton names\n",
    "- A method `from_tables()` to construct a `TimeDependentConnections` instance based on the rows in the spreadsheet\n",
    "- A method `write()` that takes in a sheet and a start row, and writes the content for the object to the spreadsheet"
   ]
  },
  {
   "cell_type": "markdown",
   "metadata": {},
   "source": [
    "### TimeDependentValuesEntry\n",
    "\n",
    "![databook-tdve](databook_tdve.png)\n",
    "\n",
    "A `TimeDependentValuesEntry` consists of a single element with\n",
    "\n",
    "- The full name of the quantity at the top left\n",
    "- The left column with population names\n",
    "- Value entry cells for contant and year-specific values\n",
    "\n",
    "    A code name/full name table at the top\n",
    "    A matrix of Y/N values that controls which time series appear on the page\n",
    "    A set of time series inputs where the user enters time-varying data\n",
    "\n",
    "This table is managed by the `TimeDependentValuesEntry` object in `excel.py` which has\n",
    "\n",
    "- A name\n",
    "- The time vector\n",
    "- A dict of `TimeSeries` objects keyed by the population name\n",
    "- A method `from_rows()` to construct a `TimeDependentValuesEntry` instance based on the rows in the spreadsheet\n",
    "- A method `write()` that takes in a sheet and a start row, and writes the content for the object to the spreadsheet\n",
    "\n",
    "It is possible to optionally specify a row with the population set to 'All'. This row will then serve as a fallback for any populations that are otherwise missing in the table. Since 'All' is a reserved keyword, it is guaranteed to not correspond to an actual population. If a row with 'All' is present, it is not necessary to specify any other data in the TDVE table. However, if population-specific rows are present, they will take precedence. The values for the 'All' population row are processed when constructing a `ParameterSet` - the `ParameterSet` will contain time series values for every population, and will read them from the 'All' row of the TDVE table as required. In that sense, having a row for 'All' in the TDVE table is functionally equivalent to the databook containing population specific rows for every population, with the same data appearing on every row."
   ]
  },
  {
   "cell_type": "markdown",
   "metadata": {},
   "source": [
    "## Modifying databooks\n",
    "\n",
    "A `ProjectData` instance is essentially a Python representation of the databook spreadsheet, and you can freely move between either representation depending on which is easiest to work with for any given task. In particular, this functionality facilitates programmatic editing of the databook, which can be useful in several common workflows."
   ]
  },
  {
   "cell_type": "markdown",
   "metadata": {},
   "source": [
    "### Creating a blank databook\n",
    "\n",
    "Starting from a framework, you can make a blank databook using the `at.ProjectData.new()` function:"
   ]
  },
  {
   "cell_type": "code",
   "execution_count": null,
   "metadata": {},
   "outputs": [],
   "source": [
    "F = at.ProjectFramework('sir_framework.xlsx')\n",
    "D = at.ProjectData.new(framework=F, pops=1, transfers=0, tvec=np.arange(2020, 2041))"
   ]
  },
  {
   "cell_type": "markdown",
   "metadata": {},
   "source": [
    "This has produced an empty `ProjectData` instance. It can be converted and saved to a spreadsheet databook format using the `save` method"
   ]
  },
  {
   "cell_type": "code",
   "execution_count": null,
   "metadata": {},
   "outputs": [],
   "source": [
    "D.save('sir_databook_1.xlsx')"
   ]
  },
  {
   "cell_type": "markdown",
   "metadata": {},
   "source": [
    "![databook-new1](new_1.png)"
   ]
  },
  {
   "cell_type": "markdown",
   "metadata": {},
   "source": [
    "### Pre-populating data"
   ]
  },
  {
   "cell_type": "markdown",
   "metadata": {},
   "source": [
    "The tables in the databook are stored in the `ProjectData` instance under three member variables\n",
    "\n",
    "- `tdve` stores the compartment, characteristic, and parameter input tables\n",
    "- `transfers` stores any inter-population transfers such as aging\n",
    "- `interactions` stores any cross-population variable weights, such as those used for computing force of infection\n",
    "\n",
    "The entries in `tdve` exactly match the quantities in the framework flagged as appearing in the databook, while the entries in `transfers` and `interactions` are databook-specific (because they depend on the populations defined in the databook). By accessing these variables, we can programatically read and write values in the data. For example:"
   ]
  },
  {
   "cell_type": "code",
   "execution_count": null,
   "metadata": {},
   "outputs": [],
   "source": [
    "D.tdve.keys()"
   ]
  },
  {
   "cell_type": "code",
   "execution_count": null,
   "metadata": {},
   "outputs": [],
   "source": [
    "D.tdve['sus']"
   ]
  },
  {
   "cell_type": "markdown",
   "metadata": {},
   "source": [
    "The `tdve` entry for the `sus` variable contains various metadata controlling which columns appear in the databook. The values are stored within `TimeSeries` instances in the `ts` attribute, keyed by population:"
   ]
  },
  {
   "cell_type": "code",
   "execution_count": null,
   "metadata": {},
   "outputs": [],
   "source": [
    "D.tdve['sus'].ts['pop_0']"
   ]
  },
  {
   "cell_type": "markdown",
   "metadata": {},
   "source": [
    "Since the various time series in the databook could be stored in either a TDVE table or a transfer or an interaction, the `ProjectData.get_ts()` can be used to access variables by name and population, regardless of where in the `ProjectData` instance they are stored:"
   ]
  },
  {
   "cell_type": "code",
   "execution_count": null,
   "metadata": {},
   "outputs": [],
   "source": [
    "D.get_ts('sus','pop_0')"
   ]
  },
  {
   "cell_type": "markdown",
   "metadata": {},
   "source": [
    "To insert a value, we can simply add the value to this time series"
   ]
  },
  {
   "cell_type": "code",
   "execution_count": null,
   "metadata": {},
   "outputs": [],
   "source": [
    "D.tdve['sus'].ts['pop_0'].insert(2020, 1000)"
   ]
  },
  {
   "cell_type": "markdown",
   "metadata": {},
   "source": [
    "Note that the year must be present in the TDVE's `tvec` in order for the values to be written to the databook. To add different years on an individual basis, manually add the years to the `tvec` first."
   ]
  },
  {
   "cell_type": "code",
   "execution_count": null,
   "metadata": {},
   "outputs": [],
   "source": [
    "D.save('sir_databook_2.xlsx')"
   ]
  },
  {
   "cell_type": "markdown",
   "metadata": {},
   "source": [
    "![databook-new2](new_2.png)"
   ]
  },
  {
   "cell_type": "markdown",
   "metadata": {},
   "source": [
    "Now when the `ProjectData` instance is saved to disk, the inserted value is written into the spreadsheet. As an alternative to inserting values one-by-one, you could alternatively replace the entire timeseries:"
   ]
  },
  {
   "cell_type": "code",
   "execution_count": null,
   "metadata": {},
   "outputs": [],
   "source": [
    "D.tdve['ch_all'].ts['pop_0'] = at.TimeSeries([2020, 2025, 2030], [2000, 3000, 4000], units='Number')\n",
    "D.tdve['ch_prev'].ts['pop_0'] = at.TimeSeries([2021, 2022], [0.3, 0.28], units='Fraction')\n",
    "\n",
    "D.save('sir_databook_3.xlsx')"
   ]
  },
  {
   "cell_type": "markdown",
   "metadata": {},
   "source": [
    "![databook-new3](new_3.png)"
   ]
  },
  {
   "cell_type": "markdown",
   "metadata": {},
   "source": [
    "This approach can be extended to pre-populate many different variables in a script. For example, a common workflow is to have a collection of raw data files from various sources. Then to produce a databook, a blank databook is created from the framework, the raw inputs read into dataframes, and then the values inserted into the appropriate time series before writing the databook to disk. Any additional missing values can then be populated manually before the databook is then loaded back and used to run simulations. This workflow is particularly useful if conducting an analysis in multiple settings, where several databooks are required. The input data spreadsheet might correspond to one type of quantity (e.g., population size) for every country all from a single source, and a script to generate databooks would read data for a specific country from each of the input spreadsheets to generate multiple databooks."
   ]
  },
  {
   "cell_type": "markdown",
   "metadata": {},
   "source": [
    "### Adding a variable"
   ]
  },
  {
   "cell_type": "markdown",
   "metadata": {},
   "source": [
    "Another common use case is when a framework has been updated to contain a new variable. How can this new variable be added to an existing databook? The *easiest* way to do this is actually to simply make a copy of the sub-table in Excel, populate values as required, and then load the new databook. For example, consider modifying the framework to contain:"
   ]
  },
  {
   "cell_type": "markdown",
   "metadata": {},
   "source": [
    "![databook-framework2](framework_2.png)"
   ]
  },
  {
   "cell_type": "markdown",
   "metadata": {},
   "source": [
    "Suppose we try to load the existing databook using this framework:"
   ]
  },
  {
   "cell_type": "code",
   "execution_count": null,
   "metadata": {},
   "outputs": [],
   "source": [
    "F2 = at.ProjectFramework('sir_framework_2.xlsx')\n",
    "D2 = at.ProjectData.from_spreadsheet('sir_databook_3.xlsx', framework=F2)"
   ]
  },
  {
   "cell_type": "markdown",
   "metadata": {},
   "source": [
    "The databook can be loaded even though the `vac` table is missing. However, the databook will not pass validation because it does not contain the missing variable"
   ]
  },
  {
   "cell_type": "code",
   "execution_count": null,
   "metadata": {},
   "outputs": [],
   "source": [
    "try:\n",
    "    D2.validate(F2)\n",
    "except Exception as E:\n",
    "    print(E)"
   ]
  },
  {
   "cell_type": "markdown",
   "metadata": {},
   "source": [
    "Adding a new TDVE to `D2.tdve['vac']` would be possible - however, the additional metadata such as the allowed units for that variable would need to be added as well, and it would need to be assigned to a databook page, so overall this would be somewhat fragile and error prone. Instead, an option could be to make a new databook from the framework, and copy any relevant TDVEs from the old databook to the new databook. For example:"
   ]
  },
  {
   "cell_type": "code",
   "execution_count": null,
   "metadata": {},
   "outputs": [],
   "source": [
    "D1 = at.ProjectData.from_spreadsheet('sir_databook_3.xlsx', framework=F)\n",
    "D2 = at.ProjectData.new(framework=F2, pops=1, transfers=0, tvec=np.arange(2020, 2041))\n",
    "for k,v in D1.tdve.items():\n",
    "    if k in D2.tdve:\n",
    "        D2.tdve[k] = v\n",
    "D2.save('sir_databook_4.xlsx')"
   ]
  },
  {
   "cell_type": "markdown",
   "metadata": {},
   "source": [
    "![databook-new4](new_4.png)"
   ]
  },
  {
   "cell_type": "markdown",
   "metadata": {},
   "source": [
    "Notice how the sheet now contains all of the original data, as well as the new 'Vaccinated' table. However, this approach has the limitation of requiring access to the original framework. \n",
    "\n",
    "<div class=\"alert alert-block alert-info\">\n",
    "In general, the preferred workflow for adding new variables to the databook is to simply edit the existing databook in Excel to match the required format, by copying-and-pasting the existing tables. Any issues with formatting can be tidied by loading the databook into Atomica and saving it back, to re-write it with standard formatting.\n",
    "</div>\n",
    "\n"
   ]
  },
  {
   "cell_type": "markdown",
   "metadata": {},
   "source": [
    "### Removing a variable\n",
    "\n",
    "Removing a variable follows a similar workflow as adding a variable. Suppose we have now removed the `ch_prev` variable ('Prevalence') from the databook:"
   ]
  },
  {
   "cell_type": "markdown",
   "metadata": {},
   "source": [
    "![databook-framework3](framework_3.png)"
   ]
  },
  {
   "cell_type": "code",
   "execution_count": null,
   "metadata": {},
   "outputs": [],
   "source": [
    "F3 = at.ProjectFramework('sir_framework_3.xlsx')\n",
    "D3 = at.ProjectData.from_spreadsheet('sir_databook_3.xlsx', framework=F3)\n",
    "D3.validate(F3);"
   ]
  },
  {
   "cell_type": "markdown",
   "metadata": {},
   "source": [
    "Unlike the previous example where a new variables was required, the existing databook is valid for use with the new framework, because the additional variable is simply surplus and does not otherwise interact with the model. However, to remove it, you can otherwise delete it from the dictionary:"
   ]
  },
  {
   "cell_type": "code",
   "execution_count": null,
   "metadata": {},
   "outputs": [],
   "source": [
    "del D3.tdve['ch_prev']\n",
    "D3.tdve_pages['State Variables'].remove('ch_prev')\n",
    "D3.save('sir_databook_5.xlsx')"
   ]
  },
  {
   "cell_type": "markdown",
   "metadata": {},
   "source": [
    "Notice that the `tdve_pages` attribute maps TDVE entries (like `ch_prev`) to databook sheets (like `'State variables'`):"
   ]
  },
  {
   "cell_type": "code",
   "execution_count": null,
   "metadata": {},
   "outputs": [],
   "source": [
    "D3.tdve_pages"
   ]
  },
  {
   "cell_type": "markdown",
   "metadata": {},
   "source": [
    "You can use the `tdve_pages` attribute to move tables from one sheet to another. However, that also means that if you add or remove an entry from `tdve` you will need to make a corresponding change to `tdve_pages`. \n",
    "\n",
    "<div class=\"alert alert-block alert-info\">\n",
    "In general, the preferred workflow for removing variables from a databook is to simply delete the relevant rows from the existing databook.\n",
    "</div>"
   ]
  },
  {
   "cell_type": "markdown",
   "metadata": {},
   "source": [
    "### Add/remove populations\n",
    "\n",
    "Adding or removing populations requires modifying the rows in every TDVE and TDC instance contained in the databook. Therefore, the `ProjectData` instance provides methods to facilitate these operations:"
   ]
  },
  {
   "cell_type": "code",
   "execution_count": null,
   "metadata": {},
   "outputs": [],
   "source": [
    "D3.add_pop(code_name='adults', full_name='Adults')\n",
    "D3.add_pop(code_name='children', full_name='Children')\n",
    "D3.save('sir_databook_6.xlsx')"
   ]
  },
  {
   "cell_type": "markdown",
   "metadata": {},
   "source": [
    "The new populations now appear on the population definitions sheet, and in every TDVE table."
   ]
  },
  {
   "attachments": {
    "image-2.png": {
     "image/png": "[encoded data removed]"
    },
    "image.png": {
     "image/png": "[encoded data removed]"
    }
   },
   "cell_type": "markdown",
   "metadata": {},
   "source": [
    "![image.png](attachment:image.png)\n",
    "\n",
    "![image-2.png](attachment:image-2.png)"
   ]
  },
  {
   "cell_type": "markdown",
   "metadata": {},
   "source": [
    "Removing a population can be done in much the same way:"
   ]
  },
  {
   "cell_type": "code",
   "execution_count": null,
   "metadata": {},
   "outputs": [],
   "source": [
    "D3.remove_pop('children')\n",
    "D3.save('sir_databook_7.xlsx')"
   ]
  },
  {
   "attachments": {
    "image.png": {
     "image/png": "[encoded data removed]"
    }
   },
   "cell_type": "markdown",
   "metadata": {},
   "source": [
    "![image2.png](attachment:image.png)"
   ]
  },
  {
   "cell_type": "markdown",
   "metadata": {},
   "source": [
    "Finally, a population can be renamed using the 'rename_pop' method. This is different to adding a new population with a new name and then removing the original one, because it preserves any data already entered:"
   ]
  },
  {
   "cell_type": "code",
   "execution_count": null,
   "metadata": {},
   "outputs": [],
   "source": [
    "D3.rename_pop('pop_0', new_code_name='general', new_full_name='General')\n",
    "D3.save('sir_databook_8.xlsx')"
   ]
  },
  {
   "attachments": {
    "image.png": {
     "image/png": "[encoded data removed]"
    }
   },
   "cell_type": "markdown",
   "metadata": {},
   "source": [
    "![image3.png](attachment:image.png)"
   ]
  },
  {
   "cell_type": "markdown",
   "metadata": {},
   "source": [
    "Notice that the data values that were previously entered for the `pop_0` population have been preserved."
   ]
  },
  {
   "cell_type": "markdown",
   "metadata": {},
   "source": [
    "### Add/remove transfers and interactions\n",
    "\n",
    "Transfers and interactions can be added or removed in the same way as populations, using \n",
    "\n",
    "- `ProjectData.add_transfer()`\n",
    "- `ProjectData.rename_transfer()`\n",
    "- `ProjectData.remove_transfer()`\n",
    "- `ProjectData.add_interaction()`\n",
    "- `ProjectData.remove_interaction()`"
   ]
  },
  {
   "cell_type": "markdown",
   "metadata": {},
   "source": [
    "### Changing databook years"
   ]
  },
  {
   "cell_type": "markdown",
   "metadata": {},
   "source": [
    "The year range in the databook is defined at the TDVE/TDC level, and therefore each quantity can have a different set of time values. In Excel, to add an extra year to a table, simply add an extra column to the appropriate variable. When programatically modifying the time points at the variable level, it's important to make the change at the `tvec` level rather than the `ts` (timeseries) level, so that the change propagates to the databook when exported. This is shown in the example above. \n",
    "\n",
    "To change the data entry years for the entire databook, the `ProjectData.change_tvec()` method can be used:"
   ]
  },
  {
   "cell_type": "code",
   "execution_count": null,
   "metadata": {},
   "outputs": [],
   "source": [
    "D3.change_tvec(np.arange(2020, 2031, 0.5))\n",
    "D3.save('sir_databook_9.xlsx')"
   ]
  },
  {
   "attachments": {
    "image.png": {
     "image/png": "[encoded data removed]"
    }
   },
   "cell_type": "markdown",
   "metadata": {},
   "source": [
    "![image-1a.png](attachment:image.png)"
   ]
  },
  {
   "cell_type": "markdown",
   "metadata": {},
   "source": [
    "### Further spreadsheet modification\n",
    "\n",
    "Sometimes it is useful to programatically interact with the *spreadsheet* without writing it to disk - for example, adding an extra sheet, or returning the spreadsheet for download. There are actually three output methods available in the `ProjectData` class\n",
    "\n",
    "- `ProjectData.to_workbook()` which returns a `BytesIO` instance and an open `xlsxwriter.Workbook`\n",
    "- `ProjectData.to_spreadsheet()` which takes the output of `to_workbook()`, flushes and closes the `Workbook`, and returns a `ScirisSpreadsheet` instance\n",
    "- `ProjectData.save()` which takes the output of `to_spreadsheet()` and writes it to disk\n",
    "\n",
    "For example, to add an extra sheet to the workbook:"
   ]
  },
  {
   "cell_type": "code",
   "execution_count": null,
   "metadata": {},
   "outputs": [],
   "source": [
    "f, workbook = D3.to_workbook() # Get an xlsxwriter workbook instance\n",
    "worksheet = workbook.add_worksheet('Extra worksheet') # Add a new worksheet\n",
    "worksheet.write(0, 0, 'Example') # Add some content to the cells\n",
    "worksheet.write(0, 1, 'Content')\n",
    "workbook.close()  # Close the workbook to flush any xlsxwriter content\n",
    "spreadsheet = sc.Spreadsheet(f)  # Wrap it in a spreadsheet instance\n",
    "spreadsheet.save('sir_databook_10.xlsx')"
   ]
  },
  {
   "attachments": {
    "image-2.png": {
     "image/png": "[encoded data removed]"
    },
    "image-3.png": {
     "image/png": "[encoded data removed]"
    }
   },
   "cell_type": "markdown",
   "metadata": {},
   "source": [
    "Now the spreadsheet contains an additional sheet:\n",
    "\n",
    "![image-a.png](attachment:image-2.png)\n",
    "\n",
    "![image-b.png](attachment:image-3.png)"
   ]
  }
 ],
 "metadata": {
  "kernelspec": {
   "display_name": "Python [conda env:atomica311] *",
   "language": "python",
   "name": "conda-env-atomica311-py"
  },
  "language_info": {
   "codemirror_mode": {
    "name": "ipython",
    "version": 3
   },
   "file_extension": ".py",
   "mimetype": "text/x-python",
   "name": "python",
   "nbconvert_exporter": "python",
   "pygments_lexer": "ipython3",
   "version": "3.11.5"
  },
  "toc": {
   "base_numbering": 1,
   "nav_menu": {},
   "number_sections": true,
   "sideBar": true,
   "skip_h1_title": false,
   "title_cell": "Table of Contents",
   "title_sidebar": "Contents",
   "toc_cell": false,
   "toc_position": {},
   "toc_section_display": true,
   "toc_window_display": false
  }
 },
 "nbformat": 4,
 "nbformat_minor": 2
}
