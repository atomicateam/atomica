{
 "cells": [
  {
   "cell_type": "markdown",
   "metadata": {},
   "source": [
    "# Plotting programs\n",
    "\n",
    "This notebook illustrates a secondary feature of the plotting library - plotting program related quantities such as\n",
    "\n",
    "- Program spending\n",
    "- Coverage\n",
    "\n",
    "The functionality is build on the standard plotting library - as described in the plotting documentation, the general workflow is to \n",
    "\n",
    "1. Create a `PlotData` instance containing the values to be rendered on a plot\n",
    "2. Pass the `PlotData` object to `plot_series` or `plot_bars` to render the figure\n",
    "\n",
    "The strategy is to construct a `PlotData` object that contains program-related data. Then, `plot_series` and `plot_bars` can be used as normal, together with all of the other functionality for assigning colours, bar plot stacking, legend management, and figure saving. \n",
    "\n",
    "First, we will perform a simulation using programs"
   ]
  },
  {
   "cell_type": "code",
   "execution_count": null,
   "metadata": {},
   "outputs": [],
   "source": [
    "# IMPORTS\n",
    "%load_ext autoreload\n",
    "%autoreload 2\n",
    "%matplotlib inline\n",
    "import sys\n",
    "sys.path.append('..')\n",
    "import atomica as au\n",
    "import matplotlib.pyplot as plt\n",
    "import numpy as np\n",
    "import sciris as sc\n",
    "from IPython.display import display, HTML\n",
    "\n",
    "CSS = \"\"\"\n",
    ".output {\n",
    "    flex-flow: row wrap;\n",
    "}\n",
    "\"\"\"\n",
    "\n",
    "HTML('<style>{}</style>'.format(CSS))"
   ]
  },
  {
   "cell_type": "code",
   "execution_count": null,
   "metadata": {},
   "outputs": [],
   "source": [
    "# Make demo project and default budget run\n",
    "P = au.demo(which='tb')\n",
    "instructions = au.ProgramInstructions(2018)\n",
    "result1 = P.run_sim(P.parsets[0],P.progsets[0],progset_instructions=instructions,result_name='Default budget')\n",
    "\n",
    "# Do a simple budget scenario so that we have different spending\n",
    "alloc = {'BCG': 365000, 'PCF': 22568000, 'ACF': 22282133, 'ACF-p': 793333, 'HospDS': 108461100, 'HospMDR': 7205000, 'HospXDR': 1346000, 'AmbDS': 0, 'AmbMDR': 0, 'XDRnew': 951200, 'PrisDS': 1414500, 'PrisDR': 220000}\n",
    "instructions = au.ProgramInstructions(alloc=alloc,start_year=2018)\n",
    "result2 = P.run_sim(P.parsets[0],P.progsets[0],progset_instructions=instructions,result_name='Modified budget')\n",
    "\n",
    "# Do a budget scenario with time-varying spending\n",
    "alloc = {'ACF': au.TimeSeries([2018,2030],[2e8,1.5e8]),'BCG': au.TimeSeries([2018,2025],[2e7,3e7])}\n",
    "instructions = au.ProgramInstructions(alloc=alloc,start_year=2018)\n",
    "result3 = P.run_sim(P.parsets[0],P.progsets[0],progset_instructions=instructions,result_name='Time-varying budget')"
   ]
  },
  {
   "cell_type": "markdown",
   "metadata": {},
   "source": [
    "### Creating `PlotData` from programs\n",
    "\n",
    "To make a standard plot of model outputs, you pass a `Result` object to the `PlotData` constructor:"
   ]
  },
  {
   "cell_type": "code",
   "execution_count": null,
   "metadata": {},
   "outputs": [],
   "source": [
    "d = au.PlotData(result3,outputs='alive',pops='all',project=P)\n",
    "au.plot_series(d,axis='pops');"
   ]
  },
  {
   "cell_type": "markdown",
   "metadata": {},
   "source": [
    "This constructor is specific to plotting model outputs i.e. the values associated with the integration objects in a `Model` such as compartments, characteristics, parameters, and links. Therefore, the `outputs` argument should correspond to the code name of one of these quantities. \n",
    "\n",
    "To plot programs, you instead construct a `PlotData` instance using the `au.PlotData.programs()` static method. For example:"
   ]
  },
  {
   "cell_type": "code",
   "execution_count": null,
   "metadata": {},
   "outputs": [],
   "source": [
    "d = au.PlotData.programs(result3,outputs='BCG')\n",
    "au.plot_series(d);"
   ]
  },
  {
   "cell_type": "markdown",
   "metadata": {},
   "source": [
    "For this method, the `outputs` argument should correspond to the code name of _programs_, and the `pop` argument is not supported because the program quantities for spending and coverage are not population specific."
   ]
  },
  {
   "cell_type": "markdown",
   "metadata": {},
   "source": [
    "## Plotting spending and coverage\n",
    "\n",
    "`au.PlotData.programs()` takes an optional argument, `quantity`, that selects whether to extract values associated with\n",
    "\n",
    "- `spending` which are budget amounts from the `alloc`\n",
    "- `coverage_eligible` which is the number of people reached by the program. This is equal to the sum of the compartment sizes for all compartments and populations the program is marked as reaching in the progbook\n",
    "- `coverage_fraction` - this is the fraction of the available people covered by the program, and is equal to `coverage_number/coverage_eligible` with a maximum value of `1.0`\n",
    "- `coverage_number` which is the number of people actually covered by the program - this is returned as a number of people covered per year\n",
    "\n",
    "<div class='alert alert-warning'>\n",
    "Note that program coverages plotted here are always on an individual program basis, prior to any modality interactions\n",
    "</div>\n"
   ]
  },
  {
   "cell_type": "code",
   "execution_count": null,
   "metadata": {},
   "outputs": [],
   "source": [
    "d = au.PlotData.programs(result3,outputs='BCG',quantity='spending')\n",
    "au.plot_series(d);\n",
    "\n",
    "d = au.PlotData.programs(result3,outputs='BCG',quantity='coverage_number')\n",
    "au.plot_series(d);\n",
    "\n",
    "d = au.PlotData.programs(result3,outputs='BCG',quantity='coverage_eligible')\n",
    "au.plot_series(d);\n",
    "\n",
    "d = au.PlotData.programs(result3,outputs='BCG',quantity='coverage_fraction')\n",
    "au.plot_series(d);"
   ]
  },
  {
   "cell_type": "markdown",
   "metadata": {},
   "source": [
    "<div class='alert alert-danger'>\n",
    "Spending values are interpolated onto every time-step but are only used after the program start year. Currently this is not visually indicated on the plot.\n",
    "</div>"
   ]
  },
  {
   "cell_type": "markdown",
   "metadata": {},
   "source": [
    "As with plotting normal results, you can pass in a `list` of `Result` objects to compare budget quantities in two different simulations. Here, our different result objects correspond to different budget scenarios:"
   ]
  },
  {
   "cell_type": "code",
   "execution_count": null,
   "metadata": {},
   "outputs": [],
   "source": [
    "d = au.PlotData.programs([result1,result2,result3],outputs='BCG',quantity='spending')\n",
    "au.plot_series(d,axis='results');\n",
    "\n",
    "d = au.PlotData.programs([result1,result2,result3],outputs='BCG',quantity='coverage_number')\n",
    "au.plot_series(d,axis='results');\n",
    "\n",
    "d = au.PlotData.programs([result1,result2,result3],outputs='BCG',quantity='coverage_eligible')\n",
    "au.plot_series(d,axis='results');\n",
    "\n",
    "d = au.PlotData.programs([result1,result2,result3],outputs='BCG',quantity='coverage_fraction')\n",
    "au.plot_series(d,axis='results');"
   ]
  },
  {
   "cell_type": "markdown",
   "metadata": {},
   "source": [
    "## Bar plots and selecting times\n",
    "\n",
    "A common task is making a bar plot for allocations in specific year(s). The simulation is fundamentally run with a spending value at each timestep, and the `PlotData` object has values for every simulation time, as shown above. To select a single year, simply interpolate the `PlotData` object onto the year that you want to plot. This parsimoniously handles time-varying budgets. "
   ]
  },
  {
   "cell_type": "code",
   "execution_count": null,
   "metadata": {},
   "outputs": [],
   "source": [
    "d = au.PlotData.programs(result3,quantity='spending')\n",
    "d.interpolate(2018)\n",
    "au.plot_bars(d,stack_outputs='all');"
   ]
  },
  {
   "cell_type": "code",
   "execution_count": null,
   "metadata": {},
   "outputs": [],
   "source": [
    "d = au.PlotData.programs(result3,outputs='BCG',quantity='spending')\n",
    "d.interpolate(2018)\n",
    "au.plot_bars(d);"
   ]
  },
  {
   "cell_type": "markdown",
   "metadata": {},
   "source": [
    "As with normal `PlotData` objects, if you specify multiple outputs, they will be rendered as separate bar elements, and can optionally be stacked"
   ]
  },
  {
   "cell_type": "code",
   "execution_count": null,
   "metadata": {},
   "outputs": [],
   "source": [
    "d = au.PlotData.programs(result3,outputs=['HospDS','HospMDR','HospXDR'],quantity='spending')\n",
    "d.interpolate(2018)\n",
    "              \n",
    "au.plot_bars(d);\n",
    "au.plot_bars(d,stack_outputs='all');"
   ]
  },
  {
   "cell_type": "markdown",
   "metadata": {},
   "source": [
    "Notice how as usual, changing the stacking for the bar plot does not require assembling a new `PlotData` object, it is simply rendering the same data in a different style. If you interpolate onto multiple years, these will be rendered as normal by `plot_bars`:"
   ]
  },
  {
   "cell_type": "code",
   "execution_count": null,
   "metadata": {},
   "outputs": [],
   "source": [
    "d = au.PlotData.programs(result3,outputs=['HospDS','HospMDR','HospXDR'],quantity='spending')\n",
    "d.interpolate([2018,2025])\n",
    "              \n",
    "au.plot_bars(d);\n",
    "au.plot_bars(d,stack_outputs='all');"
   ]
  },
  {
   "cell_type": "markdown",
   "metadata": {},
   "source": [
    "Similarly, if you pass in multiple results, these will also be handled as normal by `plot_bars` even when combined with multiple years:"
   ]
  },
  {
   "cell_type": "code",
   "execution_count": null,
   "metadata": {},
   "outputs": [],
   "source": [
    "d = au.PlotData.programs([result2,result3],outputs=['HospDS','HospMDR','HospXDR'],quantity='spending')\n",
    "d.interpolate([2018,2025])\n",
    "au.plot_bars(d,stack_outputs='all');"
   ]
  },
  {
   "cell_type": "markdown",
   "metadata": {},
   "source": [
    "## Time aggregation\n",
    "\n",
    "To aggregate values over time, you can pass in an argument `t_bins` which behaves the same as for standard `PlotData` objects. However, unlike normal `PlotData` objects, the time aggregation type is fixed because only certain aggregations make sense in the context of programs:\n",
    "\n",
    "- `spending` which is in units of '\\$/year' will be integrated over time\n",
    "- `coverage_eligible` (in units of 'people') will be averaged over time\n",
    "- `coverage_fraction` (which is dimensionless) will be averaged over time\n",
    "- `coverage_number` (in units of 'people/year') will be integrated over time\n",
    "\n",
    "Note that `coverage_number` being integrated over time typically only makes sense for treatment-style programs rather than continuous ART-style programs. \n",
    "\n",
    "You can specify a scalar to aggregate over fixed bin sizes, or bin edges to aggregate over a specific time period:"
   ]
  },
  {
   "cell_type": "code",
   "execution_count": null,
   "metadata": {},
   "outputs": [],
   "source": [
    "# Single time bin\n",
    "d = au.PlotData.programs(result3,outputs=['BCG'],quantity='spending',t_bins=[2018,2025])\n",
    "au.plot_bars(d,stack_outputs='all');\n",
    "\n",
    "# Unequal bins\n",
    "d = au.PlotData.programs(result3,outputs=['BCG'],quantity='spending',t_bins=[2018,2025,2028])\n",
    "au.plot_bars(d,stack_outputs='all');\n",
    "\n",
    "# 5-year bins, showing scale-up in spending\n",
    "d = au.PlotData.programs(result3,outputs=['BCG'],quantity='spending',t_bins=5)\n",
    "au.plot_bars(d,stack_outputs='all');"
   ]
  },
  {
   "cell_type": "markdown",
   "metadata": {},
   "source": [
    "These behave in the usual way when there are multiple outputs, results, and time bins:"
   ]
  },
  {
   "cell_type": "code",
   "execution_count": null,
   "metadata": {},
   "outputs": [],
   "source": [
    "d = au.PlotData.programs([result2,result3],outputs=['HospDS','HospMDR','HospXDR'],quantity='spending',t_bins=np.arange(2020,2040,5))\n",
    "au.plot_bars(d,stack_outputs='all',outer='times');"
   ]
  },
  {
   "cell_type": "markdown",
   "metadata": {},
   "source": [
    "Here is a demonstration of the automatic selection of addition vs averaging for time aggregation:"
   ]
  },
  {
   "cell_type": "code",
   "execution_count": null,
   "metadata": {},
   "outputs": [],
   "source": [
    "# SPENDING\n",
    "\n",
    "# Raw values\n",
    "d = au.PlotData.programs([result3],outputs=['BCG'],quantity='spending')\n",
    "au.plot_series(d);\n",
    "plt.xlim(2020,2026)\n",
    "\n",
    "# Time aggregation over 2 years\n",
    "# Spending values are summed (e.g. 22m+25m~=49m in the first 2 years)\n",
    "# Notice how the axis label for the line plot is `$/year` but for the bar plot it is `$`\n",
    "d = au.PlotData.programs([result3],outputs=['BCG'],quantity='spending',t_bins=np.arange(2020,2026,2))\n",
    "au.plot_bars(d);"
   ]
  },
  {
   "cell_type": "code",
   "execution_count": null,
   "metadata": {},
   "outputs": [],
   "source": [
    "# Number covered\n",
    "\n",
    "# Raw values\n",
    "d = au.PlotData.programs([result3],outputs=['BCG'],quantity='coverage_number')\n",
    "au.plot_series(d);\n",
    "plt.xlim(2020,2026)\n",
    "\n",
    "# Time aggregation over 2 years\n",
    "# People covered per year are summed\n",
    "d = au.PlotData.programs([result3],outputs=['BCG'],quantity='coverage_number',t_bins=np.arange(2020,2026,2))\n",
    "au.plot_bars(d);"
   ]
  },
  {
   "cell_type": "code",
   "execution_count": null,
   "metadata": {},
   "outputs": [],
   "source": [
    "# Coverage eligible\n",
    "\n",
    "# Raw values\n",
    "d = au.PlotData.programs([result3],outputs=['BCG'],quantity='coverage_eligible')\n",
    "au.plot_series(d);\n",
    "plt.xlim(2020,2026)\n",
    "\n",
    "# Time aggregation over 2 years\n",
    "# Compartment sizes for compartments reached by a program are averaged\n",
    "d = au.PlotData.programs([result3],outputs=['BCG'],quantity='coverage_eligible',t_bins=np.arange(2020,2026,2))\n",
    "au.plot_bars(d);"
   ]
  },
  {
   "cell_type": "code",
   "execution_count": null,
   "metadata": {},
   "outputs": [],
   "source": [
    "# Fraction covered\n",
    "\n",
    "# Raw values\n",
    "d = au.PlotData.programs([result3],outputs=['BCG'],quantity='coverage_fraction')\n",
    "au.plot_series(d);\n",
    "plt.xlim(2020,2026)\n",
    "\n",
    "# Time aggregation over 2 years\n",
    "# Fraction covered per year are averaged\n",
    "d = au.PlotData.programs([result3],outputs=['BCG'],quantity='coverage_fraction',t_bins=np.arange(2020,2026,2))\n",
    "au.plot_bars(d);"
   ]
  },
  {
   "cell_type": "markdown",
   "metadata": {},
   "source": [
    "## Output aggregation\n",
    "\n",
    "When plotting spending values, it is possible to aggregate programs in the same way that outputs can be aggregated for standard `PlotData` objects. This can only be done for programs - coverages are more complex due to modality interactions, and a system for plotting such aggregations is not yet available. \n",
    "\n",
    "As with aggregating outputs and pops normally, to aggregate programs, pass them in within a `dict` where the key is the name of the aggregated output, and the value is a list of the program names to include:"
   ]
  },
  {
   "cell_type": "code",
   "execution_count": null,
   "metadata": {},
   "outputs": [],
   "source": [
    "# Select a subset of programs\n",
    "prog_list = ['HospDS','HospMDR','HospXDR']\n",
    "d = au.PlotData.programs([result1],outputs=prog_list)\n",
    "d.interpolate(2018)\n",
    "au.plot_bars(d,stack_outputs='all')\n",
    "plt.title('Unaggregated');\n",
    "\n",
    "# Aggregate programs\n",
    "outputs = {'Hosp':['HospDS','HospMDR','HospXDR']}\n",
    "d = au.PlotData.programs([result1],outputs=outputs)\n",
    "d.interpolate(2018)\n",
    "au.plot_bars(d,stack_outputs='all')\n",
    "plt.title('Aggregated');"
   ]
  }
 ],
 "metadata": {
  "kernelspec": {
   "display_name": "Python [conda env:atomica37]",
   "language": "python",
   "name": "conda-env-atomica37-py"
  },
  "language_info": {
   "codemirror_mode": {
    "name": "ipython",
    "version": 3
   },
   "file_extension": ".py",
   "mimetype": "text/x-python",
   "name": "python",
   "nbconvert_exporter": "python",
   "pygments_lexer": "ipython3",
   "version": "3.7.2"
  },
  "toc": {
   "base_numbering": 1,
   "nav_menu": {},
   "number_sections": true,
   "sideBar": true,
   "skip_h1_title": false,
   "title_cell": "Table of Contents",
   "title_sidebar": "Contents",
   "toc_cell": false,
   "toc_position": {},
   "toc_section_display": true,
   "toc_window_display": false
  }
 },
 "nbformat": 4,
 "nbformat_minor": 2
}
