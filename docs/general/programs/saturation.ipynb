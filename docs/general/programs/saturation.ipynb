{
 "cells": [
  {
   "cell_type": "code",
   "execution_count": null,
   "metadata": {},
   "outputs": [],
   "source": [
    "import numpy as np\n",
    "import matplotlib.pyplot as plt\n",
    "from matplotlib import rc\n",
    "rc('font',**{'family':'sans-serif','sans-serif':['Helvetica']})\n",
    "## for Palatino and other serif fonts use:\n",
    "#rc('font',**{'family':'serif','serif':['Palatino']})\n",
    "rc('text', usetex=False)"
   ]
  },
  {
   "cell_type": "code",
   "execution_count": null,
   "metadata": {},
   "outputs": [],
   "source": [
    "x = np.linspace(0,2,1000)\n",
    "\n",
    "def makeplot(saturation):\n",
    "    plt.plot(x,np.minimum(1,2 * saturation / (1 + np.exp(-2 * x / saturation)) - saturation),label='$\\\\alpha=%.1f$' % saturation)\n",
    "    plt.xlim(0,max(x))\n",
    "    plt.ylim(0,1.05)\n",
    "    plt.xlabel('Raw coverage')\n",
    "    plt.ylabel('Constrained coverage')"
   ]
  },
  {
   "cell_type": "code",
   "execution_count": null,
   "metadata": {},
   "outputs": [],
   "source": [
    "makeplot(0.5)\n",
    "makeplot(0.75)\n",
    "makeplot(1)\n",
    "makeplot(2)\n",
    "makeplot(4)\n",
    "plt.plot([0,1, 2],[0,1, 1],'r--',label='No saturation')\n",
    "plt.legend()\n",
    "plt.savefig('saturation.png',dpi=300)"
   ]
  },
  {
   "cell_type": "code",
   "execution_count": null,
   "metadata": {},
   "outputs": [],
   "source": []
  },
  {
   "cell_type": "code",
   "execution_count": null,
   "metadata": {},
   "outputs": [],
   "source": []
  }
 ],
 "metadata": {
  "kernelspec": {
   "display_name": "Python [conda env:optima37]",
   "language": "python",
   "name": "conda-env-optima37-py"
  },
  "language_info": {
   "codemirror_mode": {
    "name": "ipython",
    "version": 3
   },
   "file_extension": ".py",
   "mimetype": "text/x-python",
   "name": "python",
   "nbconvert_exporter": "python",
   "pygments_lexer": "ipython3",
   "version": "3.7.0"
  }
 },
 "nbformat": 4,
 "nbformat_minor": 2
}
