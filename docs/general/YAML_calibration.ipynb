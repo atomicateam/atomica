{
 "cells": [
  {
   "cell_type": "markdown",
   "id": "0",
   "metadata": {},
   "source": [
    "# YAML calibration documentation"
   ]
  },
  {
   "cell_type": "markdown",
   "id": "1",
   "metadata": {},
   "source": [
    "This page contains additional information about features and functionality supported by the YAML calibration system\n"
   ]
  },
  {
   "cell_type": "markdown",
   "id": "2",
   "metadata": {},
   "source": [
    "## YAML internal structure\n",
    "\n",
    "The native representation of the YAML calibration is as a graph of 'nodes' where each node corresponds to either an action or a section containing other nodes. Each node has associated with it a collection of attributes/settings defined for that node (`instructions`), and a collection of attributes inherited from all parent nodes (`context`). The `atomica.yaml_calibration.build()` function takes in the content of the YAML file and loads it into a tree of `at.yaml_calibration.BaseNode` instances with a root node called 'calibration' at the top level. For example, consider the following YAML file from Tutorial 7:"
   ]
  },
  {
   "cell_type": "code",
   "execution_count": null,
   "id": "3",
   "metadata": {},
   "outputs": [],
   "source": [
    "import atomica as at\n",
    "yaml_file = at.rootdir/'docs'/'tutorial'/'T7'/'calibrations'/'T7_YAML_3_repeats.yaml'\n",
    "print(open(yaml_file).read())"
   ]
  },
  {
   "cell_type": "markdown",
   "id": "4",
   "metadata": {},
   "source": [
    "This file would be loaded into the following tree of nodes:"
   ]
  },
  {
   "cell_type": "code",
   "execution_count": null,
   "id": "5",
   "metadata": {},
   "outputs": [],
   "source": [
    "import atomica.yaml_calibration \n",
    "nodes = at.yaml_calibration.build(yaml_file) \n",
    "print(nodes)"
   ]
  },
  {
   "cell_type": "markdown",
   "id": "6",
   "metadata": {},
   "source": [
    "Section nodes have a `children` attribute that in turn contains others nodes:"
   ]
  },
  {
   "cell_type": "code",
   "execution_count": null,
   "id": "7",
   "metadata": {},
   "outputs": [],
   "source": [
    "nodes.children[0].children[0]"
   ]
  },
  {
   "cell_type": "markdown",
   "id": "8",
   "metadata": {},
   "source": [
    "The nodes corresponding to actions each have their own type, with methods that implement the action performed by the node:"
   ]
  },
  {
   "cell_type": "code",
   "execution_count": null,
   "id": "9",
   "metadata": {},
   "outputs": [],
   "source": [
    "nodes.children[0].children[0].children[0]"
   ]
  },
  {
   "cell_type": "markdown",
   "id": "10",
   "metadata": {},
   "source": [
    "The context for a node consists of all settings defined in the node's parents. For example, the 'Match population sizes' node inherits the 'repeats' context from the parent 'calibration' node:"
   ]
  },
  {
   "cell_type": "code",
   "execution_count": null,
   "id": "11",
   "metadata": {},
   "outputs": [],
   "source": [
    "nodes.children[0].children[0].children[0].context"
   ]
  },
  {
   "cell_type": "markdown",
   "id": "12",
   "metadata": {},
   "source": [
    "The 'instructions' for the 'Match population sizes' node contains all of the settings that are defined within the node itself - in this case, the adjustables and measurables:"
   ]
  },
  {
   "cell_type": "code",
   "execution_count": null,
   "id": "13",
   "metadata": {},
   "outputs": [],
   "source": [
    "nodes.children[0].children[0].children[0].instructions"
   ]
  },
  {
   "cell_type": "markdown",
   "id": "14",
   "metadata": {},
   "source": [
    "The YAML file is executed by sequentially traversing the tree of nodes, and calling the `apply()` method on each node in turn. The order of execution can be obtained using the `walk()` method e.g., "
   ]
  },
  {
   "cell_type": "code",
   "execution_count": null,
   "id": "15",
   "metadata": {},
   "outputs": [],
   "source": [
    "list(nodes.walk())"
   ]
  },
  {
   "cell_type": "markdown",
   "id": "16",
   "metadata": {},
   "source": [
    "This returns a flat list of tuples, where the first item corresponds to the number of times the node has been repeated (which is used when printing progress during execution) and the second item is the node itself. "
   ]
  },
  {
   "cell_type": "markdown",
   "id": "17",
   "metadata": {},
   "source": [
    "## `CalibrationNode` functionality\n",
    "\n",
    "### Adjustables and measurables settings\n",
    "\n",
    "A calibration node contains adjustables and measurables. Each adjustable and measurable in turn has its own settings. Each adjustable has:\n",
    "\n",
    "- `adj_label` (required): Adjustable codename (can be found in the framework)\n",
    "- `pop_name`: Population to calibrate (default: all populations)\n",
    "- `lower_bound`: Lowest value the y-factor will be allowed to take (default: 0.1)\n",
    "- `upper_bound`: Highest value the y-factor will be allowed to take (default: 1)\n",
    "- `starting_y_factor`: Y-factor value the autocalibration will start from when running the optimisation algorithm (default: the adjustable’s current `y_factor` in the parset)\n",
    "\n",
    "\n",
    "Each measurable has:\n",
    "\n",
    "- `meas_label` (required): Measurable codename (can be found in the framework)\n",
    "- `pop_name`: Population to use for calibration (default: all populations)\n",
    "- `weight`: Weight for a particular population (default: weight = 1. This implies that, by default, all populations are weighted equally regardless of size. See the [section on setting weights](#measurable-weights \"Measurable weights\") for further details)\n",
    "- `metric`: Metric to be used by the optimisation algorithm (default: fractional)\n",
    "- `cal_start`: Starting year that the calibration will be evaluated for (default: `sim_start`)\n",
    "- `cal_end`: End year that the calibration will be evaluated for (default: `sim_end`)\n",
    "\n",
    "<div class=\"alert alert-info\">\n",
    "Note that <code>sim_start</code> and <code>sim_end</code> are governed by the project settings and are not set as part of the YAML calibration routine. \n",
    "</div>\n",
    "\n",
    "When creating a calibration node in the YAML file, it is possible to create the adjustables and measurables using their labels only, using the default values for all other settings. Alternatively, users can specify some or all of the settings. The YAML calibration framework for Atomica supports four ways of setting adjustables and measurables, so as to give users a high level of flexibility. These are: \n",
    "\n",
    "- String format\n",
    "- List format \n",
    "- Dictionary format\n",
    "- Combined format \n",
    "\n",
    "In general, we can only use one notation within any particular block of adjustables or measurables (with the exception of **combined format**). However, notation does not necessarily have to be consistent between different calibration blocks, or even between the adjustables and the measurables of the same calibration block. \n",
    "\n",
    "Below, we will describe each notation and how to use them in a YAML calibration file."
   ]
  },
  {
   "cell_type": "markdown",
   "id": "18",
   "metadata": {},
   "source": [
    "#### String format\n",
    "\n",
    "The simplest notation is string format, where only parameter names are passed to the adjustables and measurables, like so: \n",
    "\n",
    "    Calibration: \n",
    "        match population sizes:\n",
    "            adjustables: births, mig_rate\n",
    "            measurables: alive\n",
    "\n",
    "Multiple parameters can be provided, separated by commas. When we use string notation, the optimisation algorithm will perform an autocalibration run using the default settings for adjustables and measurables. If we want to the optimisation algorithm to use specific settings, rather than just the defaults, it is necessary to use one of the other formats."
   ]
  },
  {
   "cell_type": "markdown",
   "id": "19",
   "metadata": {},
   "source": [
    "#### Dictionary format\n",
    "\n",
    "Dictionary format allows us to explicitly set calibration settings for each adjustable and measurable. We do this by writing the setting names and their values under the relevant parameter name. Each adjustable and measurable is placed on a new line, and their respective settings are also specified on separate indented lines, like so: \n",
    "\n",
    "    Calibration: \n",
    "        Match population sizes:\n",
    "            adjustables: \n",
    "            \tb_rate: \n",
    "            \t\tstarting_y_factor: 1.2 \n",
    "            \tmig_rate: \n",
    "                    lower_bound: 0.5\n",
    "            \t\tupper_bound: 20\t\t\n",
    "            measurables: \n",
    "                alive:\n",
    "                \tcal_start: 2000\n",
    "                \tcal_end: 2040\n",
    "\n",
    "We can also specify the same settings for multiple adjustables or measurables at once, by placing them together, separated by commas:  \n",
    "\n",
    "    Calibration: \n",
    "        match population sizes:\n",
    "            adjustables: \n",
    "            \tbirths, mig_rate: \n",
    "            \t\tlower_bound: 0.5\n",
    "            \t\tupper_bound: 20\t\t\n",
    "            measurables: alive       \n",
    "            "
   ]
  },
  {
   "cell_type": "markdown",
   "id": "20",
   "metadata": {},
   "source": [
    "#### List format\n",
    "\n",
    "In list format, as the name suggests, we specify the adjustables and measurables settings in a list. It can be useful as a shorthand of dictionary form, since the labels for each setting don't need to be explicitly written. Instead, we simply write the value of each setting, following the same order as in the [Adjustables and Measurables Settings](#Adjustables-and-measurables-settings) section.\n",
    "\n",
    "To use list format, place the parameter name and ordered settings values in a list (that is, in square brackets, separated by commas) after the adjustables and/or measurables keyword. The general structure and order to follow are shown below. \n",
    "\n",
    "    adjustables: [adj_label, lower_bound, upper_bound, starting_y_factor]\n",
    "    measurables: [meas_label, weight, metric, start_year, end_year]\n",
    "\n",
    "Although this might seem like a lot of information for each adjustable and measurable, it is not necessary to include each item every time we use list format – only up to the point where the last setting we want to change is. For example, if we just want to set the `b_rate` adjustable’s `lower bound` to, say, 0.2, we only need to list the `par_label` and `lower_bound` values in order. Any subsequent settings will retain their default values.\n",
    "\n",
    "    adjustables: [b_rate, 0.2]\n",
    "    measurables: [alive]"
   ]
  },
  {
   "cell_type": "markdown",
   "id": "21",
   "metadata": {},
   "source": [
    "However, if we wanted to set values that are at the end of the list order, we need to explicitly specify the default values of all the previous settings. For example, to set the `starting_y_factor` to 1.2 and the `end_year` to 2020, assuming the simulation start year `sim_start` was 2000, we would write:\n",
    "\n",
    "    adjustables: [b_rate, 0.1, 10, 1.2]\n",
    "    measurables: [alive, 1.0, fractional, 2000, 2020]\n",
    "\n",
    "We can also specify settings for multiple adjustables/measurables at once, by writing a list for each adjustable or measurable, and placing them together in a list of lists. The first example from the previous section on Dictionary format would be written as\n",
    "\n",
    "    adjustables: [[b_rate, 0.1, 10, 1.2], [mig_rate, 0.5, 20]]\n",
    "    measurables: [alive]\n",
    "\n",
    "In this particular case, it might be most practical to use the dictionary format for the `mig_rate`, while the `b_rate` is more concise in list format. List notation may also become convoluted and hard to read if there are parameters to calibrate in the same block. In case like these, we can use the combined format instead, described below."
   ]
  },
  {
   "cell_type": "markdown",
   "id": "22",
   "metadata": {},
   "source": [
    "#### Combined format\n",
    "\n",
    "Combined format uses dictionary keys, while the values are in list form. This has two main benefits: Firstly, it separates out the parameters in a clear and organised way, which avoids ending up with a dense list of lists containing long series of numbers. Secondly, it allows us to use both the list and dictionary formats under one same adjustables or measurables block.\n",
    "\n",
    "    calibration: \n",
    "        match population sizes:\n",
    "            adjustables: \n",
    "                    b_rate: \t\t\n",
    "            \t\t\tstarting_y_factor: \t1.2 \t------> dictionary format\n",
    "            \t\tmig_rate: [0.5, 20]\t            ------> combined format\n",
    "            measurables: alive       \n",
    "\n",
    "In the above example, the `b_rate` adjustable settings are in dictionary format, while the `mig_rate` is now in combined format. When using the combined format, the list of settings is defined in the same order as in the [Adjustables and Measurables Settings](#Adjustables-and-measurables-settings) section. In other words, the order is the same as when using the list format, except we don't specify the first entry (corresponding to the parameter code name) inside the list, as it is already specified before the colon. "
   ]
  },
  {
   "cell_type": "markdown",
   "id": "23",
   "metadata": {},
   "source": [
    "### Calibrating populations\n",
    "\n",
    "The YAML calibration framework allows us to indicate specific populations to calibrate. This can be useful if we wish to calibrate some populations separately, or use different calibration settings for different populations. By default, if only the code name of the adjustable or measurable is provided, a separate copy will be created for every population. To specify the population in any format (except for string format, which does not support populations), the `par_name` and `pop_name` must be placed in a tuple, i.e. in round brackets and separated by a comma, like so: `(births, 0-4)`. Calibrating populations with spaces in the `pop_label` is supported, and follows the same syntax: `(births, 0-4 HIV+)`. The following are examples of this feature’s usage in all supported formats: \n",
    "\n",
    "Dictionary format:\n",
    "\n",
    "    adjustables:\n",
    "        (births, 0-4), mig_rate: \n",
    "                lower_bound: 0.5\n",
    "                upper_bound: 20\n",
    "    measurables: \n",
    "        (alive, 0-4):\n",
    "            weight: 0.1\n",
    "\n",
    "List format:\n",
    "\n",
    "    adjustables: [ [(births, 0-4), 0.5, 20], [mig_rate, 0.5, 20] ]\n",
    "    measurables: [(alive, 0-4), 1.0]\n",
    "\n",
    "Combined format:\n",
    "\n",
    "    adjustables:\n",
    "        (births, 0-4), mig_rate: [0.5, 20] \n",
    "    measurables: \n",
    "        (alive, 0-4): [1.0]"
   ]
  },
  {
   "cell_type": "markdown",
   "id": "24",
   "metadata": {},
   "source": [
    "#### Meta Y-factors\n",
    "\n",
    "For each parameter, the meta Y-factor is applied to all populations. To calibrate the meta Y-factor and apply the same changes to every population, set the population name to `all` using the syntax above e.g., `(births, all)` would set the meta Y-factor for the `births` parameter"
   ]
  },
  {
   "cell_type": "markdown",
   "id": "25",
   "metadata": {},
   "source": [
    "#### Overriding population specific settings\n",
    "\n",
    "For each adjustable that has been created, the population-specific settings will take precedence over non-population-specific settings. Recall that if no population is specified, this is equivalent to defined adjustables and measurables for each population separately. For example:\n",
    "\n",
    "    adjustables:\n",
    "        births:\n",
    "            lower_bound: 0.5\n",
    "            upper_bound: 20\n",
    "        (births, 0-4) \n",
    "            upper_bound: 10\n",
    "\n",
    "In this case, `births` will be adjusted in every population with a lower bound of 0.5 and upper bound of 20, _except_ for the 0-4 population, in which the lower bound will be 0.5 but the upper bound will be 10."
   ]
  },
  {
   "cell_type": "markdown",
   "id": "26",
   "metadata": {},
   "source": [
    "### Calibrating transfers and interactions\n",
    "\n",
    "In the case of transfers and interactions, there are two populations involved: the ‘to’ population, and the ‘from' population. The approach is the same as with regular populations, except that we now have two population names in the tuple instead of one: \n",
    "\n",
    "    adjustables:\n",
    "        (aging, 5-14, 15-64): \n",
    "                lower_bound: 0.5\n",
    "            \tupper_bound: 20\n",
    "    measurables: alive\n",
    "\n",
    "And in list form:\n",
    "\n",
    "\tadjustables: [(aging, 5-14, 15-64), 0.1, 10]\n",
    "    measurables: alive\n",
    "\n"
   ]
  },
  {
   "cell_type": "markdown",
   "id": "27",
   "metadata": {},
   "source": [
    "### Calibrating to total population data\n",
    "\n",
    "Usually, our data is structured like below, with each parameter containing several populations, such as age groups. \n",
    "\n",
    "![](databook_pops.png \"Example of a databook with multiple populations\")\n",
    "\n",
    "In the YAML file, we could write \n",
    "\n",
    "    calibration\n",
    "        adjustables: b_rate\n",
    "        measurables: alive\n",
    "\n",
    "Since no population has been specified, all populations will be calibrated. \n",
    "\n",
    "However, for some parameters, our source data might not be broken down into populations or age groups. In that case, the above YAML file will not work, since there is no data available at the individual population level. What we can do in that situation is add an extra row to the databook with a population called `Total` (which is a reserved keyword in Atomica), and explicitly set the population name to `Total` in the YAML file. If it was our 'alive' data that was not broken down by populations, the databook would look like so\n",
    "\n",
    "![](databook_pops_Total.png \"Example of a databook with a Total population\")\n",
    "\n",
    "And we would adjust the previous YAML file like so.\n",
    "\n",
    "\tcalibration\n",
    "        adjustables: b_rate\n",
    "        measurables: (alive, Total)"
   ]
  },
  {
   "cell_type": "markdown",
   "id": "28",
   "metadata": {},
   "source": [
    "## Measurable Weights \n",
    "\n",
    "In one calibration block, we can include several measurables at the same time, or multiple populations of the same measurable. But say we trusted the data from one measurable’s data source more than another, or wanted to prioritise fitting a particular population – how would we indicate this to the optimisation algorithm? \n",
    "\n",
    "In the measurable settings, we can set weights for this purpose. The default value for the `weight` setting is 1.0 which is used for all measurables and populations, which corresponds to giving them each an equal weight, regardless of size. That might be desirable if, for example, we have a key population that is smaller than the other populations – if they were weighted proportionally to size, the small key population might be effectively ignored in the optimisation. However, there might be cases where we want to do things differently. For example, we could give a key population a higher weight, or we could weight different age bins according to their size. Another reason to use measurable weights could simply be that we trust one data source more than another. \n",
    "\n",
    "In the following example, we set the `0-4 HIV+` population of the `alive` measurable to have double the weight than the `0-4` population. \n",
    "\n",
    "    calibration: \n",
    "        match population sizes:\n",
    "            adjustables: \n",
    "            \tb_rate: \n",
    "                        lower_bound: 0.1\n",
    "                        upper_bound: 10\n",
    "            measurables: \n",
    "                (alive, 0-4 HIV+):        \n",
    "                    \tweight: 2\n",
    "                (alive, 0-4):        \n",
    "        \t\t\t\tweight: 1\n",
    "\n",
    "Note that the important factor is the proportion between the different weights, not the weight values themselves. That is to say, if we instead set the above weight values to `4` and `2` respectively, the result would be the same. \n"
   ]
  }
 ],
 "metadata": {
  "kernelspec": {
   "display_name": "Python [conda env:atomica312]",
   "language": "python",
   "name": "conda-env-atomica312-py"
  },
  "language_info": {
   "codemirror_mode": {
    "name": "ipython",
    "version": 3
   },
   "file_extension": ".py",
   "mimetype": "text/x-python",
   "name": "python",
   "nbconvert_exporter": "python",
   "pygments_lexer": "ipython3",
   "version": "3.12.2"
  },
  "toc": {
   "base_numbering": 1,
   "nav_menu": {},
   "number_sections": true,
   "sideBar": true,
   "skip_h1_title": false,
   "title_cell": "Table of Contents",
   "title_sidebar": "Contents",
   "toc_cell": false,
   "toc_position": {
    "height": "calc(100% - 180px)",
    "left": "10px",
    "top": "150px",
    "width": "352px"
   },
   "toc_section_display": true,
   "toc_window_display": true
  }
 },
 "nbformat": 4,
 "nbformat_minor": 5
}
