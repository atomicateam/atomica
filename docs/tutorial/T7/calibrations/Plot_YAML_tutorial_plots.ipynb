{
 "cells": [
  {
   "cell_type": "markdown",
   "id": "0",
   "metadata": {},
   "source": [
    "# Calibration plots for the YAML files shown in the YAML tutorial\n",
    "\n",
    "This plots the calibration reslts from `run_tutorial_autocals` (which includes the final worked example as well as the YAML examples in the tutorial)"
   ]
  },
  {
   "cell_type": "markdown",
   "id": "1",
   "metadata": {},
   "source": [
    "# Make project"
   ]
  },
  {
   "cell_type": "code",
   "execution_count": null,
   "id": "2",
   "metadata": {},
   "outputs": [],
   "source": [
    "%load_ext autoreload\n",
    "%autoreload 2"
   ]
  },
  {
   "cell_type": "code",
   "execution_count": null,
   "id": "3",
   "metadata": {},
   "outputs": [],
   "source": [
    "import atomica as at\n",
    "import os\n",
    "from os.path import isfile\n",
    "import re\n",
    "import sciris as sc"
   ]
  },
  {
   "cell_type": "code",
   "execution_count": null,
   "id": "4",
   "metadata": {},
   "outputs": [],
   "source": [
    "inputs = '../assets'\n",
    "F = at.ProjectFramework(f'{inputs}/T7_framework.xlsx')\n",
    "D = at.ProjectData.from_spreadsheet(f'{inputs}/T7_databook.xlsx', framework=F)\n",
    "P = at.Project(framework=F,databook=D)\n",
    "P.settings.update_time_vector(start=2000, end=2040, dt=1/52)"
   ]
  },
  {
   "cell_type": "markdown",
   "id": "5",
   "metadata": {
    "slideshow": {
     "slide_type": ""
    },
    "tags": []
   },
   "source": [
    "# Pre-calibraton"
   ]
  },
  {
   "cell_type": "code",
   "execution_count": null,
   "id": "6",
   "metadata": {},
   "outputs": [],
   "source": [
    "cal0 = P.make_parset()\n",
    "res0 = P.run_sim(parset=cal0, result_name = 'Uncalibrated')\n",
    "d = at.PlotData(res0, outputs=['alive','deaths'], project=P)\n",
    "fig = at.plot_series(d,axis='pops', data=P.data, n_cols=2, legend_mode='none')[0]\n",
    "fig.set_size_inches(8,4)\n",
    "fig.tight_layout()"
   ]
  },
  {
   "cell_type": "code",
   "execution_count": null,
   "id": "7",
   "metadata": {},
   "outputs": [],
   "source": [
    "cal0 = P.make_parset()\n",
    "res0 = P.run_sim(parset=cal0, result_name = 'Uncalibrated')\n",
    "d = at.PlotData(res0, outputs=['alive', 'typ_incidence', 'typ_prev', 'typ_num_deaths'], project=P)\n",
    "fig = at.plot_series(d,axis='pops', data=P.data, n_cols=2, legend_mode='none')[0]\n",
    "fig.set_size_inches(8,6)\n",
    "fig.tight_layout()"
   ]
  },
  {
   "cell_type": "markdown",
   "id": "8",
   "metadata": {},
   "source": [
    "# Import calibrations"
   ]
  },
  {
   "cell_type": "code",
   "execution_count": null,
   "id": "9",
   "metadata": {},
   "outputs": [],
   "source": [
    "#calibration files to import\n",
    "calpaths = ['cal_1', '', 'cal_3', 'cal_4', 'cal_5', 'cal_6', 'cal_7', 'cal_8', 'cal_9', 'cal_WE8']"
   ]
  },
  {
   "cell_type": "code",
   "execution_count": null,
   "id": "10",
   "metadata": {},
   "outputs": [],
   "source": [
    "resdict = sc.odict()\n",
    "for i, file in enumerate(calpaths):\n",
    "        print(i+1)\n",
    "        print(file)\n",
    "        print(f'res_{i+1}')\n",
    "        if file == '':\n",
    "            continue\n",
    "        cal = P.make_parset()    \n",
    "        cal = cal.load_calibration(f'{file}.xlsx')\n",
    "        resdict[f'res_{i+1}'] = P.run_sim(parset=cal, result_name =  file)"
   ]
  },
  {
   "cell_type": "markdown",
   "id": "11",
   "metadata": {},
   "source": [
    "# Plot calibrations"
   ]
  },
  {
   "cell_type": "markdown",
   "id": "12",
   "metadata": {},
   "source": [
    "## 1 - Minimal yaml file (shown in tutorial)"
   ]
  },
  {
   "cell_type": "code",
   "execution_count": null,
   "id": "13",
   "metadata": {},
   "outputs": [],
   "source": [
    "# specific calibration\n",
    "file = 'cal_1.xlsx'\n",
    "cal1 = P.make_parset()    \n",
    "cal1 = cal1.load_calibration(file)\n",
    "res1 = P.run_sim(parset=cal1, result_name = 'Simple calibration')"
   ]
  },
  {
   "cell_type": "code",
   "execution_count": null,
   "id": "14",
   "metadata": {
    "slideshow": {
     "slide_type": ""
    },
    "tags": []
   },
   "outputs": [],
   "source": [
    "d = at.PlotData([res0, res1], outputs='alive', project=P, pops='65+')\n",
    "at.plot_series(d, axis='results', data=P.data);"
   ]
  },
  {
   "cell_type": "code",
   "execution_count": null,
   "id": "15",
   "metadata": {},
   "outputs": [],
   "source": [
    "d = at.PlotData(res1, outputs=['alive','typ_incidence', 'typ_prev', 'typ_num_deaths'], project=P)\n",
    "fig = at.plot_series(d,axis='pops', data=P.data, n_cols=2, legend_mode='none')[0]\n",
    "fig.set_size_inches(12,8)\n",
    "fig.tight_layout()"
   ]
  },
  {
   "cell_type": "code",
   "execution_count": null,
   "id": "16",
   "metadata": {},
   "outputs": [],
   "source": [
    "d = at.PlotData(res1, outputs=['alive', 'deaths', 'typ_prev', 'typ_num_deaths'], project=P)\n",
    "fig = at.plot_series(d,axis='pops', data=P.data, n_cols=2, legend_mode='none')[0]\n",
    "fig.set_size_inches(12,8)\n",
    "fig.tight_layout()"
   ]
  },
  {
   "cell_type": "markdown",
   "id": "17",
   "metadata": {
    "slideshow": {
     "slide_type": ""
    },
    "tags": []
   },
   "source": [
    "## 3 - Repeats (not shown at the moment)"
   ]
  },
  {
   "cell_type": "code",
   "execution_count": null,
   "id": "18",
   "metadata": {
    "slideshow": {
     "slide_type": ""
    },
    "tags": []
   },
   "outputs": [],
   "source": [
    "d = at.PlotData(resdict['res_3'], outputs=['alive','deaths', 'typ_incidence', 'typ_prev', 'typ_num_deaths'], project=P)\n",
    "fig = at.plot_series(d,axis='pops', data=P.data, n_cols=2, legend_mode='none')[0]\n",
    "fig.set_size_inches(10,8)\n",
    "fig.tight_layout()"
   ]
  },
  {
   "cell_type": "code",
   "execution_count": null,
   "id": "19",
   "metadata": {},
   "outputs": [],
   "source": [
    "d = at.PlotData(resdict['res_3'], outputs=['alive','typ_incidence', 'typ_prev', 'typ_num_deaths', ], project=P)\n",
    "fig = at.plot_series(d,axis='pops', data=P.data, n_cols=2, legend_mode='none')[0]\n",
    "fig.set_size_inches(10,8)\n",
    "fig.tight_layout()"
   ]
  },
  {
   "cell_type": "code",
   "execution_count": null,
   "id": "20",
   "metadata": {},
   "outputs": [],
   "source": []
  },
  {
   "cell_type": "markdown",
   "id": "21",
   "metadata": {
    "slideshow": {
     "slide_type": ""
    },
    "tags": []
   },
   "source": [
    "## 4 - cal dict format  (not shown)"
   ]
  },
  {
   "cell_type": "code",
   "execution_count": null,
   "id": "22",
   "metadata": {
    "slideshow": {
     "slide_type": ""
    },
    "tags": []
   },
   "outputs": [],
   "source": [
    "#plot total pop: cals vs no calibration\n",
    "d = at.PlotData(resdict['res_4'], outputs='alive', project=P)\n",
    "at.plot_series(d, axis='pops', data=P.data);"
   ]
  },
  {
   "cell_type": "markdown",
   "id": "23",
   "metadata": {
    "slideshow": {
     "slide_type": ""
    },
    "tags": []
   },
   "source": [
    "## 5 - calibrate specific pops (not shown)"
   ]
  },
  {
   "cell_type": "code",
   "execution_count": null,
   "id": "24",
   "metadata": {
    "slideshow": {
     "slide_type": ""
    },
    "tags": []
   },
   "outputs": [],
   "source": [
    "#plot total pop: cals vs no calibration\n",
    "d = at.PlotData(resdict['res_5'], outputs='alive', project=P)\n",
    "at.plot_series(d, axis='pops', data=P.data);"
   ]
  },
  {
   "cell_type": "markdown",
   "id": "25",
   "metadata": {
    "slideshow": {
     "slide_type": ""
    },
    "tags": []
   },
   "source": [
    "## 6 - cal with mult params (not shown)"
   ]
  },
  {
   "cell_type": "code",
   "execution_count": null,
   "id": "26",
   "metadata": {
    "slideshow": {
     "slide_type": ""
    },
    "tags": []
   },
   "outputs": [],
   "source": [
    "#plot total pop: cals vs no calibration\n",
    "d = at.PlotData(resdict['res_6'], outputs='alive', project=P)\n",
    "at.plot_series(d, axis='pops', data=P.data);"
   ]
  },
  {
   "cell_type": "markdown",
   "id": "27",
   "metadata": {
    "slideshow": {
     "slide_type": ""
    },
    "tags": []
   },
   "source": [
    "## 7 - init (showing a different example)"
   ]
  },
  {
   "cell_type": "code",
   "execution_count": null,
   "id": "28",
   "metadata": {
    "slideshow": {
     "slide_type": ""
    },
    "tags": []
   },
   "outputs": [],
   "source": [
    "#plot total pop: cals vs no calibration\n",
    "d = at.PlotData(resdict['res_7'], outputs='alive', project=P)\n",
    "at.plot_series(d, axis='pops', data=P.data);"
   ]
  },
  {
   "cell_type": "markdown",
   "id": "29",
   "metadata": {
    "slideshow": {
     "slide_type": ""
    },
    "tags": []
   },
   "source": [
    "## 8 - clear init (showing a different example)"
   ]
  },
  {
   "cell_type": "code",
   "execution_count": null,
   "id": "30",
   "metadata": {
    "slideshow": {
     "slide_type": ""
    },
    "tags": []
   },
   "outputs": [],
   "source": [
    "#plot total pop: cals vs no calibration\n",
    "d = at.PlotData(resdict['res_8'], outputs='alive', project=P)\n",
    "at.plot_series(d, axis='pops', data=P.data);"
   ]
  },
  {
   "cell_type": "markdown",
   "id": "31",
   "metadata": {},
   "source": [
    "# cal 9 - outer settings (not shown)"
   ]
  },
  {
   "cell_type": "code",
   "execution_count": null,
   "id": "32",
   "metadata": {},
   "outputs": [],
   "source": [
    "#plot total pop: cals vs no calibration\n",
    "d = at.PlotData(resdict['res_9'], outputs='alive', project=P)\n",
    "at.plot_series(d, axis='pops', data=P.data);"
   ]
  },
  {
   "cell_type": "markdown",
   "id": "33",
   "metadata": {
    "slideshow": {
     "slide_type": ""
    },
    "tags": []
   },
   "source": [
    "### add -cal with outer params (not shown)"
   ]
  },
  {
   "cell_type": "code",
   "execution_count": null,
   "id": "34",
   "metadata": {},
   "outputs": [],
   "source": [
    "# #plot total pop: cals vs no calibration\n",
    "# d = at.PlotData(resdict['res_9'], outputs='alive', project=P)\n",
    "# at.plot_series(d, axis='pops', data=P.data);"
   ]
  },
  {
   "cell_type": "markdown",
   "id": "35",
   "metadata": {},
   "source": [
    "# WE_8: Worked example calibration (shown in tutorial)"
   ]
  },
  {
   "cell_type": "code",
   "execution_count": null,
   "id": "36",
   "metadata": {},
   "outputs": [],
   "source": [
    "d = at.PlotData(resdict['res_10'], outputs=['alive', 'deaths', 'typ_prev', 'typ_num_deaths'], project=P)\n",
    "fig = at.plot_series(d,axis='pops', data=P.data, n_cols=2, legend_mode='none')[0]\n",
    "fig.set_size_inches(12,8)\n",
    "fig.tight_layout()"
   ]
  }
 ],
 "metadata": {
  "kernelspec": {
   "display_name": "AtomicaTest",
   "language": "python",
   "name": "atomicatest"
  },
  "language_info": {
   "codemirror_mode": {
    "name": "ipython",
    "version": 3
   },
   "file_extension": ".py",
   "mimetype": "text/x-python",
   "name": "python",
   "nbconvert_exporter": "python",
   "pygments_lexer": "ipython3",
   "version": "3.10.13"
  },
  "toc": {
   "base_numbering": 1,
   "nav_menu": {},
   "number_sections": true,
   "sideBar": true,
   "skip_h1_title": false,
   "title_cell": "Table of Contents",
   "title_sidebar": "Contents",
   "toc_cell": false,
   "toc_position": {},
   "toc_section_display": true,
   "toc_window_display": true
  }
 },
 "nbformat": 4,
 "nbformat_minor": 5
}
