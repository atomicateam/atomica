{
 "cells": [
  {
   "cell_type": "markdown",
   "id": "0",
   "metadata": {},
   "source": [
    "# Calibration plots for the pop + epi calibration\n",
    "\n",
    "This plots the results from `run_model_autocals.py` (whole calibration)."
   ]
  },
  {
   "cell_type": "code",
   "execution_count": null,
   "id": "1",
   "metadata": {},
   "outputs": [],
   "source": [
    "%load_ext autoreload\n",
    "%autoreload 2"
   ]
  },
  {
   "cell_type": "code",
   "execution_count": null,
   "id": "2",
   "metadata": {},
   "outputs": [],
   "source": [
    "import atomica as at\n",
    "import os\n",
    "from os.path import isfile\n",
    "import re\n",
    "import sciris as sc"
   ]
  },
  {
   "cell_type": "code",
   "execution_count": null,
   "id": "3",
   "metadata": {},
   "outputs": [],
   "source": [
    "#load typhoid project\n",
    "inputs = '../assets'\n",
    "F = at.ProjectFramework(f'{inputs}/T7_framework.xlsx')\n",
    "D = at.ProjectData.from_spreadsheet(f'{inputs}/T7_databook.xlsx', framework=F)\n",
    "P = at.Project(framework=F, databook=D, do_run=False)\n",
    "P.settings.update_time_vector(start=2000, end=2040, dt=1/52)"
   ]
  },
  {
   "cell_type": "markdown",
   "id": "4",
   "metadata": {},
   "source": [
    "# Plot uncalibrated"
   ]
  },
  {
   "cell_type": "code",
   "execution_count": null,
   "id": "5",
   "metadata": {},
   "outputs": [],
   "source": [
    "cal0 = P.make_parset()\n",
    "res0 = P.run_sim(parset=cal0, result_name =  'Uncalibrated')\n",
    "d = at.PlotData(res0, outputs=['alive', 'deaths'], project=P)\n",
    "at.plot_series(d, axis='pops', data=P.data, n_cols=2, legend_mode='none');"
   ]
  },
  {
   "cell_type": "code",
   "execution_count": null,
   "id": "6",
   "metadata": {},
   "outputs": [],
   "source": [
    "d = at.PlotData(res0, outputs=['alive','typ_incidence', 'typ_prev', 'typ_num_deaths'], project=P)\n",
    "fig = at.plot_series(d,axis='pops', data=P.data, n_cols=2, legend_mode='none')[0]\n",
    "fig.set_size_inches(12,8)\n",
    "fig.tight_layout()"
   ]
  },
  {
   "cell_type": "markdown",
   "id": "7",
   "metadata": {},
   "source": [
    "# Load in calibrations"
   ]
  },
  {
   "cell_type": "code",
   "execution_count": null,
   "id": "8",
   "metadata": {},
   "outputs": [],
   "source": [
    "calfile= \"typ_calibration.xlsx\"\n",
    "print(calfile)\n",
    "cal = P.make_parset()   \n",
    "cal = cal.load_calibration(f'{calfile}')\n",
    "res1 = P.run_sim(parset=cal, result_name =  'Complete YAML calibration')"
   ]
  },
  {
   "cell_type": "markdown",
   "id": "9",
   "metadata": {},
   "source": [
    "# Plot calibrations"
   ]
  },
  {
   "cell_type": "code",
   "execution_count": null,
   "id": "10",
   "metadata": {},
   "outputs": [],
   "source": [
    "d = at.PlotData(res1, outputs=['alive', 'deaths'], project=P)\n",
    "at.plot_series(d, axis='pops', data=P.data, n_cols=2, legend_mode='none');"
   ]
  },
  {
   "cell_type": "code",
   "execution_count": null,
   "id": "11",
   "metadata": {},
   "outputs": [],
   "source": [
    "d = at.PlotData(res1, outputs=['alive','deaths', 'typ_prev', 'typ_num_deaths'], project=P)\n",
    "fig = at.plot_series(d,axis='pops', data=P.data, n_cols=2, legend_mode='none')[0]\n",
    "fig.set_size_inches(12,8)\n",
    "fig.tight_layout()"
   ]
  },
  {
   "cell_type": "code",
   "execution_count": null,
   "id": "12",
   "metadata": {},
   "outputs": [],
   "source": [
    "#display deaths\n",
    "d = at.PlotData(res1, outputs='d_rate:flow', project=P) \n",
    "for s in d.series:\n",
    "    s.data_label = 'deaths'\n",
    "at.plot_series(d,axis='pops',data=P.data);"
   ]
  },
  {
   "cell_type": "code",
   "execution_count": null,
   "id": "13",
   "metadata": {},
   "outputs": [],
   "source": [
    "#display other typh vars\n",
    "d = at.PlotData(res1, outputs=['life_exp'], project=P)\n",
    "at.plot_series(d,axis='pops',data=P.data);"
   ]
  }
 ],
 "metadata": {
  "kernelspec": {
   "display_name": "AtomicaTest",
   "language": "python",
   "name": "atomicatest"
  },
  "language_info": {
   "codemirror_mode": {
    "name": "ipython",
    "version": 3
   },
   "file_extension": ".py",
   "mimetype": "text/x-python",
   "name": "python",
   "nbconvert_exporter": "python",
   "pygments_lexer": "ipython3",
   "version": "3.10.13"
  },
  "toc": {
   "base_numbering": 1,
   "nav_menu": {},
   "number_sections": true,
   "sideBar": true,
   "skip_h1_title": false,
   "title_cell": "Table of Contents",
   "title_sidebar": "Contents",
   "toc_cell": false,
   "toc_position": {},
   "toc_section_display": true,
   "toc_window_display": true
  }
 },
 "nbformat": 4,
 "nbformat_minor": 5
}
